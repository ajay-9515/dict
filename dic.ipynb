{
 "cells": [
  {
   "cell_type": "code",
   "execution_count": 28,
   "metadata": {},
   "outputs": [
    {
     "name": "stdout",
     "output_type": "stream",
     "text": [
      "['ravi', 'ajay', 'jaggu', 'shanku']\n",
      "[2, 6, 5, 44, 95, 67]\n",
      "['ravi', 'ajay', 'jaggu', 'shanku', 2, 6, 5, 44, 95, 67]\n"
     ]
    }
   ],
   "source": [
    "#assigning elements to diffrent lists\n",
    "mylist1=[\"ravi\",\"ajay\",\"jaggu\",\"shanku\"]\n",
    "mylist2=[2,6,5,44,95,67,]\n",
    "print(mylist1)\n",
    "\n",
    "print (mylist2)\n",
    "\n",
    "print(mylist1+mylist2)"
   ]
  },
  {
   "cell_type": "code",
   "execution_count": 31,
   "metadata": {},
   "outputs": [
    {
     "name": "stdout",
     "output_type": "stream",
     "text": [
      "the fruits that i like are ;\n",
      "('mango', 'apple', 'banana', 'grapes')\n",
      "fruit i like the most are grapes\n",
      "mango\n"
     ]
    }
   ],
   "source": [
    "#accessing elements from a tuple\n",
    "\n",
    "mytup=(\"mango\",\"apple\",\"banana\",\"grapes\")\n",
    "\n",
    "print(\"the fruits that i like are ;\")\n",
    "print(mytup)\n",
    "print (\"fruit i like the most are\",mytup[3])\n",
    "print(mytup[0])"
   ]
  },
  {
   "cell_type": "code",
   "execution_count": 34,
   "metadata": {},
   "outputs": [
    {
     "name": "stdout",
     "output_type": "stream",
     "text": [
      "[33, 55, 90, 10]\n"
     ]
    }
   ],
   "source": [
    "#deleting diffrent dictionay elements \n",
    "numbers=[33,55,87,90,10]\n",
    "del numbers[2]\n",
    "print(numbers)"
   ]
  },
  {
   "cell_type": "code",
   "execution_count": 40,
   "metadata": {},
   "outputs": [
    {
     "name": "stdout",
     "output_type": "stream",
     "text": [
      "['bhavi', 'vyshu', 'veda', 'shanku', 'jaggu']\n"
     ]
    }
   ],
   "source": [
    "names=[\"ajay\",\"bhavi\",\"vyshu\",\"veda\",\"shanku\",\"ishu\",\"jaggu\"]\n",
    "del names[5]\n",
    "del names[0]\n",
    "print(names)"
   ]
  },
  {
   "cell_type": "code",
   "execution_count": null,
   "metadata": {},
   "outputs": [],
   "source": []
  }
 ],
 "metadata": {
  "kernelspec": {
   "display_name": "Python 3",
   "language": "python",
   "name": "python3"
  },
  "language_info": {
   "codemirror_mode": {
    "name": "ipython",
    "version": 3
   },
   "file_extension": ".py",
   "mimetype": "text/x-python",
   "name": "python",
   "nbconvert_exporter": "python",
   "pygments_lexer": "ipython3",
   "version": "3.8.3"
  }
 },
 "nbformat": 4,
 "nbformat_minor": 4
}
